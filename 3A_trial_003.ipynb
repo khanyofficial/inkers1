{
  "nbformat": 4,
  "nbformat_minor": 0,
  "metadata": {
    "colab": {
      "name": "3A_trial-003.ipynb",
      "version": "0.3.2",
      "provenance": [],
      "include_colab_link": true
    },
    "kernelspec": {
      "name": "python3",
      "display_name": "Python 3"
    }
  },
  "cells": [
    {
      "cell_type": "markdown",
      "metadata": {
        "id": "view-in-github",
        "colab_type": "text"
      },
      "source": [
        "[View in Colaboratory](https://colab.research.google.com/github/khanyofficial/inkers1/blob/master/3A_trial_003.ipynb)"
      ]
    },
    {
      "metadata": {
        "id": "UvnP9dgBWwU6",
        "colab_type": "code",
        "colab": {
          "base_uri": "https://localhost:8080/",
          "height": 1152
        },
        "outputId": "9c134eda-17cb-49da-9610-ab3212cc64c4"
      },
      "cell_type": "code",
      "source": [
        "#https://learn.inkers.ai/courses/1/pages/session-1-%7C-ml-basics?module_item_id=1\n",
        "\n",
        "import keras\n",
        "import numpy as np\n",
        "import time\n",
        "\n",
        "from keras.models import Sequential\n",
        "from keras.layers import Dense, Dropout, Activation, Flatten, Add\n",
        "from keras.layers import Convolution2D, MaxPooling2D\n",
        "from keras.utils import np_utils\n",
        "from keras.datasets import mnist\n",
        "from keras.layers import Activation\n",
        "(X_train, y_train), (X_test, y_test) = mnist.load_data()\n",
        "print (X_train.shape)\n",
        "from matplotlib import pyplot as plt\n",
        "%matplotlib inline\n",
        "plt.imshow(X_train[0])\n",
        "\n",
        "X_train = X_train.reshape(X_train.shape[0], 28, 28,1)\n",
        "X_test = X_test.reshape(X_test.shape[0], 28, 28,1)\n",
        "X_train = X_train.astype('float32')\n",
        "X_test = X_test.astype('float32')\n",
        "X_train /= 255\n",
        "X_test /= 255\n",
        "Y_train = np_utils.to_categorical(y_train, 10)\n",
        "Y_test = np_utils.to_categorical(y_test, 10)\n",
        "Y_train[:10]\n",
        "\n",
        "\n",
        "start = time.time()\n",
        "model = Sequential()\n",
        "model.add(Convolution2D(32, 3, 3, activation='relu', input_shape=(28,28,1)))\n",
        "model.add(MaxPooling2D(pool_size=(2, 2)))\n",
        "model.add(Convolution2D(32, 3, 3, activation='relu'))\n",
        "model.add(MaxPooling2D(pool_size=(2, 2)))\n",
        "model.add(Convolution2D(10, 1, activation='relu'))\n",
        "model.add(Convolution2D(10, 5))\n",
        "model.add(Flatten())\n",
        "model.add(Activation('softmax'))\n",
        "model.compile(loss='categorical_crossentropy', optimizer='adam',metrics=['accuracy'])\n",
        "\n",
        "\n",
        "model.fit(X_train, Y_train, batch_size=32, nb_epoch=10, verbose=1)\n",
        "score = model.evaluate(X_test, Y_test, verbose=0)\n",
        "print(score)\n",
        "y_pred = model.predict(X_test)\n",
        "#print(y_pred[:9])\n",
        "#print(y_test[:9])\n",
        "layer_dict = dict([(layer.name, layer) for layer in model.layers])\n",
        "print(model.summary())\n",
        "end = time.time()\n",
        "print(\"time taken to execute in secs - \" , end - start)\n"
      ],
      "execution_count": 3,
      "outputs": [
        {
          "output_type": "stream",
          "text": [
            "(60000, 28, 28)\n"
          ],
          "name": "stdout"
        },
        {
          "output_type": "stream",
          "text": [
            "/usr/local/lib/python3.6/dist-packages/ipykernel_launcher.py:31: UserWarning: Update your `Conv2D` call to the Keras 2 API: `Conv2D(32, (3, 3), activation=\"relu\", input_shape=(28, 28, 1...)`\n",
            "/usr/local/lib/python3.6/dist-packages/ipykernel_launcher.py:33: UserWarning: Update your `Conv2D` call to the Keras 2 API: `Conv2D(32, (3, 3), activation=\"relu\")`\n",
            "/usr/local/lib/python3.6/dist-packages/keras/models.py:981: UserWarning: The `nb_epoch` argument in `fit` has been renamed `epochs`.\n",
            "  warnings.warn('The `nb_epoch` argument in `fit` '\n"
          ],
          "name": "stderr"
        },
        {
          "output_type": "stream",
          "text": [
            "Epoch 1/10\n",
            "60000/60000 [==============================] - 52s 872us/step - loss: 0.2293 - acc: 0.9290\n",
            "Epoch 2/10\n",
            "60000/60000 [==============================] - 52s 869us/step - loss: 0.0730 - acc: 0.9776\n",
            "Epoch 3/10\n",
            "60000/60000 [==============================] - 53s 876us/step - loss: 0.0563 - acc: 0.9831\n",
            "Epoch 4/10\n",
            "60000/60000 [==============================] - 52s 870us/step - loss: 0.0480 - acc: 0.9853\n",
            "Epoch 5/10\n",
            "60000/60000 [==============================] - 53s 877us/step - loss: 0.0414 - acc: 0.9874\n",
            "Epoch 6/10\n",
            "60000/60000 [==============================] - 52s 871us/step - loss: 0.0369 - acc: 0.9885\n",
            "Epoch 7/10\n",
            "60000/60000 [==============================] - 52s 861us/step - loss: 0.0338 - acc: 0.9888\n",
            "Epoch 8/10\n",
            "60000/60000 [==============================] - 52s 860us/step - loss: 0.0304 - acc: 0.9903\n",
            "Epoch 9/10\n",
            "60000/60000 [==============================] - 51s 858us/step - loss: 0.0278 - acc: 0.9911\n",
            "Epoch 10/10\n",
            "60000/60000 [==============================] - 52s 861us/step - loss: 0.0258 - acc: 0.9917\n",
            "[0.03631609666604781, 0.9885]\n",
            "_________________________________________________________________\n",
            "Layer (type)                 Output Shape              Param #   \n",
            "=================================================================\n",
            "conv2d_8 (Conv2D)            (None, 26, 26, 32)        320       \n",
            "_________________________________________________________________\n",
            "max_pooling2d_4 (MaxPooling2 (None, 13, 13, 32)        0         \n",
            "_________________________________________________________________\n",
            "conv2d_9 (Conv2D)            (None, 11, 11, 32)        9248      \n",
            "_________________________________________________________________\n",
            "max_pooling2d_5 (MaxPooling2 (None, 5, 5, 32)          0         \n",
            "_________________________________________________________________\n",
            "conv2d_10 (Conv2D)           (None, 5, 5, 10)          330       \n",
            "_________________________________________________________________\n",
            "conv2d_11 (Conv2D)           (None, 1, 1, 10)          2510      \n",
            "_________________________________________________________________\n",
            "flatten_3 (Flatten)          (None, 10)                0         \n",
            "_________________________________________________________________\n",
            "activation_3 (Activation)    (None, 10)                0         \n",
            "=================================================================\n",
            "Total params: 12,408\n",
            "Trainable params: 12,408\n",
            "Non-trainable params: 0\n",
            "_________________________________________________________________\n",
            "None\n",
            "time taken to execute in secs -  526.6555063724518\n"
          ],
          "name": "stdout"
        },
        {
          "output_type": "display_data",
          "data": {
            "image/png": "[encoded data removed]",
            "text/plain": [
              "<matplotlib.figure.Figure at 0x7ff4ec1d5dd8>"
            ]
          },
          "metadata": {
            "tags": []
          }
        }
      ]
    }
  ]
}