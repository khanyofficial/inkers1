{
  "nbformat": 4,
  "nbformat_minor": 0,
  "metadata": {
    "colab": {
      "name": "3A_trial-008.ipynb",
      "version": "0.3.2",
      "provenance": [],
      "include_colab_link": true
    },
    "kernelspec": {
      "name": "python3",
      "display_name": "Python 3"
    }
  },
  "cells": [
    {
      "cell_type": "markdown",
      "metadata": {
        "id": "view-in-github",
        "colab_type": "text"
      },
      "source": [
        "[View in Colaboratory](https://colab.research.google.com/github/khanyofficial/inkers1/blob/master/3A_trial_008.ipynb)"
      ]
    },
    {
      "metadata": {
        "id": "FB0pkNpBsnVh",
        "colab_type": "code",
        "colab": {
          "base_uri": "https://localhost:8080/",
          "height": 638
        },
        "outputId": "154b8ab7-7527-49cb-9de3-b734bf9dcf9c"
      },
      "cell_type": "code",
      "source": [
        "#https://learn.inkers.ai/courses/1/pages/session-1-%7C-ml-basics?module_item_id=1\n",
        "\n",
        "import keras\n",
        "import numpy as np\n",
        "import time\n",
        "\n",
        "from keras.models import Sequential\n",
        "from keras.layers import Dense, Dropout, Activation, Flatten, Add\n",
        "from keras.layers import Convolution2D, MaxPooling2D\n",
        "from keras.utils import np_utils\n",
        "from keras.datasets import mnist\n",
        "\n",
        "(X_train, y_train), (X_test, y_test) = mnist.load_data()\n",
        "print (X_train.shape)\n",
        "from matplotlib import pyplot as plt\n",
        "#%matplotlib inline\n",
        "plt.imshow(X_train[0])\n",
        "\n",
        "X_train = X_train.reshape(X_train.shape[0], 28, 28,1)\n",
        "X_test = X_test.reshape(X_test.shape[0], 28, 28,1)\n",
        "X_train = X_train.astype('float32')\n",
        "X_test = X_test.astype('float32')\n",
        "X_train /= 255\n",
        "X_test /= 255\n",
        "Y_train = np_utils.to_categorical(y_train, 10)\n",
        "Y_test = np_utils.to_categorical(y_test, 10)\n",
        "Y_train[:10]\n",
        "from keras.layers import Activation\n",
        "\n",
        "start = time.time()\n",
        "model = Sequential()\n",
        "model.add(Convolution2D(8, (5, 5), activation='relu', input_shape=(28,28,1)))\n",
        "model.add(MaxPooling2D(pool_size=(2, 2)))\n",
        "model.add(Convolution2D(8, (3, 3), activation='relu'))\n",
        "model.add(MaxPooling2D(pool_size=(2, 2)))\n",
        "model.add(Convolution2D(10, 1, activation='relu'))\n",
        "#model.add(MaxPooling2D(pool_size=(2, 2)))\n",
        "model.add(Convolution2D(10, 5))\n",
        "model.add(Flatten())\n",
        "model.add(Activation('softmax'))\n",
        "model.compile(loss='categorical_crossentropy', optimizer='adam',metrics=['accuracy'])\n",
        "\n",
        "\n",
        "print(model.summary())\n",
        "model.fit(X_train, Y_train, batch_size=32, epochs=20, verbose=1)\n",
        "score = model.evaluate(X_test, Y_test, verbose=0)\n",
        "print(score)\n",
        "y_pred = model.predict(X_test)\n",
        "#print(y_pred[:9])\n",
        "#print(y_test[:9])\n",
        "layer_dict = dict([(layer.name, layer) for layer in model.layers])\n",
        "print(model.summary())\n",
        "end = time.time()\n",
        "print(\"time taken to execute in secs - \" , end - start)\n"
      ],
      "execution_count": 0,
      "outputs": [
        {
          "output_type": "stream",
          "text": [
            "(60000, 28, 28)\n",
            "_________________________________________________________________\n",
            "Layer (type)                 Output Shape              Param #   \n",
            "=================================================================\n",
            "conv2d_41 (Conv2D)           (None, 24, 24, 8)         208       \n",
            "_________________________________________________________________\n",
            "max_pooling2d_27 (MaxPooling (None, 12, 12, 8)         0         \n",
            "_________________________________________________________________\n",
            "conv2d_42 (Conv2D)           (None, 10, 10, 8)         584       \n",
            "_________________________________________________________________\n",
            "max_pooling2d_28 (MaxPooling (None, 5, 5, 8)           0         \n",
            "_________________________________________________________________\n",
            "conv2d_43 (Conv2D)           (None, 5, 5, 10)          90        \n",
            "_________________________________________________________________\n",
            "conv2d_44 (Conv2D)           (None, 1, 1, 10)          2510      \n",
            "_________________________________________________________________\n",
            "flatten_11 (Flatten)         (None, 10)                0         \n",
            "_________________________________________________________________\n",
            "activation_11 (Activation)   (None, 10)                0         \n",
            "=================================================================\n",
            "Total params: 3,392\n",
            "Trainable params: 3,392\n",
            "Non-trainable params: 0\n",
            "_________________________________________________________________\n",
            "None\n",
            "Epoch 1/20\n",
            "60000/60000 [==============================] - 36s 605us/step - loss: 0.2744 - acc: 0.9139\n",
            "Epoch 2/20\n",
            "60000/60000 [==============================] - 36s 597us/step - loss: 0.0902 - acc: 0.9727\n",
            "Epoch 3/20\n",
            "60000/60000 [==============================] - 36s 594us/step - loss: 0.0711 - acc: 0.9776\n",
            "Epoch 4/20\n",
            "60000/60000 [==============================] - 36s 593us/step - loss: 0.0632 - acc: 0.9808\n",
            "Epoch 5/20\n",
            "60000/60000 [==============================] - 36s 596us/step - loss: 0.0564 - acc: 0.9824\n",
            "Epoch 6/20\n",
            "59840/60000 [============================>.] - ETA: 0s - loss: 0.0512 - acc: 0.9840"
          ],
          "name": "stdout"
        }
      ]
    }
  ]
}