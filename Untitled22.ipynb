{
  "nbformat": 4,
  "nbformat_minor": 0,
  "metadata": {
    "colab": {
      "name": "Untitled22.ipynb",
      "version": "0.3.2",
      "provenance": [],
      "include_colab_link": true
    },
    "kernelspec": {
      "name": "python3",
      "display_name": "Python 3"
    }
  },
  "cells": [
    {
      "cell_type": "markdown",
      "metadata": {
        "id": "view-in-github",
        "colab_type": "text"
      },
      "source": [
        "<a href=\"https://colab.research.google.com/github/khanyofficial/inkers1/blob/master/Untitled22.ipynb\" target=\"_parent\"><img src=\"https://colab.research.google.com/assets/colab-badge.svg\" alt=\"Open In Colab\"/></a>"
      ]
    },
    {
      "cell_type": "code",
      "metadata": {
        "id": "BVoTBcXBuc15",
        "colab_type": "code",
        "colab": {
          "base_uri": "https://localhost:8080/",
          "height": 34
        },
        "outputId": "60263855-8d89-42c5-ecbc-5a0d7e43e4a0"
      },
      "source": [
        "import numpy\n",
        "from keras.models import Sequential\n",
        "from keras.layers import Dense\n",
        "from keras.layers import Dropout\n",
        "from keras.layers import LSTM\n",
        "from keras.callbacks import ModelCheckpoint\n",
        "from keras.utils import np_utils"
      ],
      "execution_count": 1,
      "outputs": [
        {
          "output_type": "stream",
          "text": [
            "Using TensorFlow backend.\n"
          ],
          "name": "stderr"
        }
      ]
    },
    {
      "cell_type": "markdown",
      "metadata": {
        "id": "UpKjugTPup6a",
        "colab_type": "text"
      },
      "source": [
        ""
      ]
    },
    {
      "cell_type": "code",
      "metadata": {
        "id": "XZgk5pa3uqjy",
        "colab_type": "code",
        "colab": {}
      },
      "source": [
        "raw_text = \"be no mistake about it: it was neither more nor less than a pig, and she felt that it would be quit e aelin that she was a little want oe toiet ano a grtpersent to the tas a little war th tee the tase oa teettee the had been tinhgtt a little toiee at the cadl in a long tuiee aedun thet sheer was a little tare gereen to be a gentle of the tabdit  soenee the gad  ouw ie the tay a tirt of toiet at the was a little anonersen, and thiu had been woite io a lott of tueh a tiie  and taede bot her aeain  she cere thth the bene tith the tere bane to tee toaete to tee the harter was a little tire the same oare cade an anl ano the garee and the was so seat the was a little gareen and the sabdit, and the white rabbit wese tilel an the caoe and the sabbit se teeteer, and the white rabbit wese tilel an the cade in a lonk tfne the sabdi ano aroing to tea the was sf teet whitg the was a little tane oo thete the sabeit  she was a little tartig to the tar tf tee the tame of the cagd, and the white rabbit was a little toiee to be anle tite thete ofs and the tabdit was the wiite rabbit, and\"\n",
        "\n",
        "random_seed = \"be no mistake about it: it was neither more nor less than a pig, and she felt that it would be quit\""
      ],
      "execution_count": 0,
      "outputs": []
    },
    {
      "cell_type": "code",
      "metadata": {
        "id": "GQd4M0t1vQGj",
        "colab_type": "code",
        "colab": {
          "base_uri": "https://localhost:8080/",
          "height": 68
        },
        "outputId": "c0afa5a6-264f-4d73-b99d-40c7f505a0fe"
      },
      "source": [
        "chars = sorted(list(set(raw_text)))\n",
        "char_to_int = dict((c, i) for i, c in enumerate(chars))\n",
        "n_chars = len(raw_text)\n",
        "n_vocab = len(chars)\n",
        "print (\"Total Characters: \", n_chars)\n",
        "print (\"Total Vocab: \", n_vocab)\n",
        "seq_length = 100\n",
        "dataX = []\n",
        "dataY = []\n",
        "for i in range(0, n_chars - seq_length, 1):\n",
        "\tseq_in = raw_text[i:i + seq_length]\n",
        "\tseq_out = raw_text[i + seq_length]\n",
        "\tdataX.append([char_to_int[char] for char in seq_in])\n",
        "\tdataY.append(char_to_int[seq_out])\n",
        "n_patterns = len(dataX)\n",
        "print (\"Total Patterns: \", n_patterns)"
      ],
      "execution_count": 9,
      "outputs": [
        {
          "output_type": "stream",
          "text": [
            "Total Characters:  1086\n",
            "Total Vocab:  25\n",
            "Total Patterns:  986\n"
          ],
          "name": "stdout"
        }
      ]
    },
    {
      "cell_type": "code",
      "metadata": {
        "id": "Iu4fxKQxvoEH",
        "colab_type": "code",
        "colab": {}
      },
      "source": [
        "X = numpy.reshape(dataX, (n_patterns, seq_length, 1))\n",
        "# normalize\n",
        "X = X / float(n_vocab)\n",
        "# one hot encode the output variable\n",
        "y = np_utils.to_categorical(dataY)"
      ],
      "execution_count": 0,
      "outputs": []
    },
    {
      "cell_type": "code",
      "metadata": {
        "id": "MtflZSc5vrLc",
        "colab_type": "code",
        "colab": {
          "base_uri": "https://localhost:8080/",
          "height": 309
        },
        "outputId": "f49931d3-8741-427d-b8ff-f686eea4bd0c"
      },
      "source": [
        "# define the LSTM model\n",
        "model = Sequential()\n",
        "model.add(LSTM(256, input_shape=(X.shape[1], X.shape[2])))\n",
        "model.add(Dropout(0.2))\n",
        "model.add(Dense(y.shape[1], activation='softmax'))\n",
        "model.compile(loss='categorical_crossentropy', optimizer='adam')"
      ],
      "execution_count": 11,
      "outputs": [
        {
          "output_type": "stream",
          "text": [
            "WARNING: Logging before flag parsing goes to stderr.\n",
            "W0722 17:33:31.142789 140041264465792 deprecation_wrapper.py:119] From /usr/local/lib/python3.6/dist-packages/keras/backend/tensorflow_backend.py:74: The name tf.get_default_graph is deprecated. Please use tf.compat.v1.get_default_graph instead.\n",
            "\n",
            "W0722 17:33:31.186191 140041264465792 deprecation_wrapper.py:119] From /usr/local/lib/python3.6/dist-packages/keras/backend/tensorflow_backend.py:517: The name tf.placeholder is deprecated. Please use tf.compat.v1.placeholder instead.\n",
            "\n",
            "W0722 17:33:31.194539 140041264465792 deprecation_wrapper.py:119] From /usr/local/lib/python3.6/dist-packages/keras/backend/tensorflow_backend.py:4138: The name tf.random_uniform is deprecated. Please use tf.random.uniform instead.\n",
            "\n",
            "W0722 17:33:31.560237 140041264465792 deprecation_wrapper.py:119] From /usr/local/lib/python3.6/dist-packages/keras/backend/tensorflow_backend.py:133: The name tf.placeholder_with_default is deprecated. Please use tf.compat.v1.placeholder_with_default instead.\n",
            "\n",
            "W0722 17:33:31.571579 140041264465792 deprecation.py:506] From /usr/local/lib/python3.6/dist-packages/keras/backend/tensorflow_backend.py:3445: calling dropout (from tensorflow.python.ops.nn_ops) with keep_prob is deprecated and will be removed in a future version.\n",
            "Instructions for updating:\n",
            "Please use `rate` instead of `keep_prob`. Rate should be set to `rate = 1 - keep_prob`.\n",
            "W0722 17:33:31.601097 140041264465792 deprecation_wrapper.py:119] From /usr/local/lib/python3.6/dist-packages/keras/optimizers.py:790: The name tf.train.Optimizer is deprecated. Please use tf.compat.v1.train.Optimizer instead.\n",
            "\n",
            "W0722 17:33:31.772452 140041264465792 deprecation_wrapper.py:119] From /usr/local/lib/python3.6/dist-packages/keras/backend/tensorflow_backend.py:3295: The name tf.log is deprecated. Please use tf.math.log instead.\n",
            "\n"
          ],
          "name": "stderr"
        }
      ]
    },
    {
      "cell_type": "code",
      "metadata": {
        "id": "mco_ZFr7vwBG",
        "colab_type": "code",
        "colab": {
          "base_uri": "https://localhost:8080/",
          "height": 1000
        },
        "outputId": "7ef3deec-8500-488b-8ee4-ec0e73153438"
      },
      "source": [
        "filepath=\"weights-improvement-{epoch:02d}-{loss:.4f}.hdf5\"\n",
        "checkpoint = ModelCheckpoint(filepath, monitor='loss', verbose=1, save_best_only=True, mode='min')\n",
        "callbacks_list = [checkpoint]\n",
        "model.fit(X, y, epochs=100, batch_size=128, callbacks=callbacks_list)"
      ],
      "execution_count": 12,
      "outputs": [
        {
          "output_type": "stream",
          "text": [
            "W0722 17:34:36.519365 140041264465792 deprecation.py:323] From /usr/local/lib/python3.6/dist-packages/tensorflow/python/ops/math_grad.py:1250: add_dispatch_support.<locals>.wrapper (from tensorflow.python.ops.array_ops) is deprecated and will be removed in a future version.\n",
            "Instructions for updating:\n",
            "Use tf.where in 2.0, which has the same broadcast rule as np.where\n"
          ],
          "name": "stderr"
        },
        {
          "output_type": "stream",
          "text": [
            "Epoch 1/20\n",
            "986/986 [==============================] - 8s 8ms/step - loss: 3.1050\n",
            "\n",
            "Epoch 00001: loss improved from inf to 3.10499, saving model to weights-improvement-01-3.1050.hdf5\n",
            "Epoch 2/20\n",
            "986/986 [==============================] - 7s 7ms/step - loss: 2.6452\n",
            "\n",
            "Epoch 00002: loss improved from 3.10499 to 2.64518, saving model to weights-improvement-02-2.6452.hdf5\n",
            "Epoch 3/20\n",
            "986/986 [==============================] - 7s 7ms/step - loss: 2.5449\n",
            "\n",
            "Epoch 00003: loss improved from 2.64518 to 2.54486, saving model to weights-improvement-03-2.5449.hdf5\n",
            "Epoch 4/20\n",
            "986/986 [==============================] - 7s 7ms/step - loss: 2.5203\n",
            "\n",
            "Epoch 00004: loss improved from 2.54486 to 2.52034, saving model to weights-improvement-04-2.5203.hdf5\n",
            "Epoch 5/20\n",
            "986/986 [==============================] - 7s 7ms/step - loss: 2.5169\n",
            "\n",
            "Epoch 00005: loss improved from 2.52034 to 2.51685, saving model to weights-improvement-05-2.5169.hdf5\n",
            "Epoch 6/20\n",
            "986/986 [==============================] - 7s 7ms/step - loss: 2.5092\n",
            "\n",
            "Epoch 00006: loss improved from 2.51685 to 2.50924, saving model to weights-improvement-06-2.5092.hdf5\n",
            "Epoch 7/20\n",
            "986/986 [==============================] - 7s 7ms/step - loss: 2.5006\n",
            "\n",
            "Epoch 00007: loss improved from 2.50924 to 2.50058, saving model to weights-improvement-07-2.5006.hdf5\n",
            "Epoch 8/20\n",
            "986/986 [==============================] - 7s 7ms/step - loss: 2.5051\n",
            "\n",
            "Epoch 00008: loss did not improve from 2.50058\n",
            "Epoch 9/20\n",
            "986/986 [==============================] - 7s 7ms/step - loss: 2.5030\n",
            "\n",
            "Epoch 00009: loss did not improve from 2.50058\n",
            "Epoch 10/20\n",
            "986/986 [==============================] - 7s 7ms/step - loss: 2.4807\n",
            "\n",
            "Epoch 00010: loss improved from 2.50058 to 2.48074, saving model to weights-improvement-10-2.4807.hdf5\n",
            "Epoch 11/20\n",
            "986/986 [==============================] - 7s 7ms/step - loss: 2.4928\n",
            "\n",
            "Epoch 00011: loss did not improve from 2.48074\n",
            "Epoch 12/20\n",
            "986/986 [==============================] - 7s 7ms/step - loss: 2.5035\n",
            "\n",
            "Epoch 00012: loss did not improve from 2.48074\n",
            "Epoch 13/20\n",
            "986/986 [==============================] - 7s 7ms/step - loss: 2.4932\n",
            "\n",
            "Epoch 00013: loss did not improve from 2.48074\n",
            "Epoch 14/20\n",
            "986/986 [==============================] - 7s 7ms/step - loss: 2.4911\n",
            "\n",
            "Epoch 00014: loss did not improve from 2.48074\n",
            "Epoch 15/20\n",
            "986/986 [==============================] - 7s 7ms/step - loss: 2.4857\n",
            "\n",
            "Epoch 00015: loss did not improve from 2.48074\n",
            "Epoch 16/20\n",
            "986/986 [==============================] - 7s 7ms/step - loss: 2.4855\n",
            "\n",
            "Epoch 00016: loss did not improve from 2.48074\n",
            "Epoch 17/20\n",
            "986/986 [==============================] - 7s 7ms/step - loss: 2.4923\n",
            "\n",
            "Epoch 00017: loss did not improve from 2.48074\n",
            "Epoch 18/20\n",
            "986/986 [==============================] - 7s 7ms/step - loss: 2.4875\n",
            "\n",
            "Epoch 00018: loss did not improve from 2.48074\n",
            "Epoch 19/20\n",
            "986/986 [==============================] - 7s 7ms/step - loss: 2.4878\n",
            "\n",
            "Epoch 00019: loss did not improve from 2.48074\n",
            "Epoch 20/20\n",
            "986/986 [==============================] - 7s 7ms/step - loss: 2.4755\n",
            "\n",
            "Epoch 00020: loss improved from 2.48074 to 2.47554, saving model to weights-improvement-20-2.4755.hdf5\n"
          ],
          "name": "stdout"
        },
        {
          "output_type": "execute_result",
          "data": {
            "text/plain": [
              "<keras.callbacks.History at 0x7f5dac5c3b00>"
            ]
          },
          "metadata": {
            "tags": []
          },
          "execution_count": 12
        }
      ]
    }
  ]
}